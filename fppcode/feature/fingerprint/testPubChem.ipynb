{
 "cells": [
  {
   "cell_type": "code",
   "execution_count": 3,
   "id": "b5b11e6d-da9c-49a3-aa86-78583912a1c9",
   "metadata": {},
   "outputs": [],
   "source": [
    "from pubchem import PubChemFP, dfbit\n",
    "from rdkit import Chem\n",
    "from utils import showAtomIdx, highlight"
   ]
  },
  {
   "cell_type": "code",
   "execution_count": 4,
   "id": "cc02eff0-c9a6-4487-a5cb-ebb91005e3fc",
   "metadata": {},
   "outputs": [
    {
     "data": {
      "image/png": "[encoded data removed]",
      "text/plain": [
       "<PIL.PngImagePlugin.PngImageFile image mode=RGB size=300x300>"
      ]
     },
     "execution_count": 4,
     "metadata": {},
     "output_type": "execute_result"
    }
   ],
   "source": [
    "smiles = 'O=C(NCC1CCCCC1)[C@@H](Cc1cc2cc(ccc2nc1N)-c1ccccc1C)CCC'\n",
    "\n",
    "mol = Chem.MolFromSmiles(smiles)\n",
    "showAtomIdx(mol)"
   ]
  },
  {
   "cell_type": "code",
   "execution_count": 5,
   "id": "54608a5d-1943-4fab-b4f8-2a11f6d9204c",
   "metadata": {},
   "outputs": [
    {
     "name": "stdout",
     "output_type": "stream",
     "text": [
      "881\n"
     ]
    },
    {
     "name": "stderr",
     "output_type": "stream",
     "text": [
      "/raid/cc/1FPPaper/fp-pooling/fppcode/feature/fingerprint/pubchem.py:542: FutureWarning: The frame.append method is deprecated and will be removed from pandas in a future version. Use pandas.concat instead.\n",
      "  dfp = dfp1.append(dfp2).sort_index()\n"
     ]
    },
    {
     "data": {
      "text/plain": [
       "dict_keys([9, 10, 11, 14, 15, 18, 178, 179, 180, 181, 185, 186, 187, 188, 192, 193, 199, 255, 256, 257, 259, 283, 284, 285, 286, 299, 332, 333, 335, 340, 344, 345, 351, 352, 355, 356, 357, 358, 365, 370, 371, 374, 375, 376, 377, 378, 379, 384, 385, 386, 387, 390, 392, 393, 396, 403, 416, 418, 420, 430, 431, 434, 437, 438, 439, 441, 442, 443, 446, 449, 450, 451, 453, 464, 470, 472, 482, 484, 487, 490, 495, 502, 506, 516, 520, 523, 524, 528, 530, 535, 538, 539, 540, 545, 546, 549, 552, 555, 556, 560, 564, 570, 576, 577, 578, 579, 582, 584, 585, 592, 595, 599, 600, 603, 607, 608, 613, 618, 628, 633, 634, 640, 643, 645, 646, 654, 656, 657, 660, 664, 665, 668, 674, 677, 678, 679, 683, 684, 688, 692, 695, 696, 697, 704, 708, 709, 710, 712, 716, 734, 755, 758, 779, 797, 818, 821])"
      ]
     },
     "execution_count": 5,
     "metadata": {},
     "output_type": "execute_result"
    }
   ],
   "source": [
    "fp = PubChemFP()\n",
    "print(fp.nBits)\n",
    "fp = fp(mol)\n",
    "fp.bitinfodict.keys()"
   ]
  },
  {
   "cell_type": "code",
   "execution_count": 13,
   "id": "2c70bac5-5bab-4d47-b303-1408f4890699",
   "metadata": {},
   "outputs": [
    {
     "data": {
      "text/plain": [
       "((4, 5, 6, 7, 8, 9),)"
      ]
     },
     "execution_count": 13,
     "metadata": {},
     "output_type": "execute_result"
    }
   ],
   "source": [
    "bitidx = 179\n",
    "fp.bits[bitidx].info"
   ]
  },
  {
   "cell_type": "code",
   "execution_count": 14,
   "id": "6ab38224-c41e-4039-b316-e470d8565cba",
   "metadata": {},
   "outputs": [
    {
     "data": {
      "image/svg+xml": [
       "<svg xmlns=\"http://www.w3.org/2000/svg\" xmlns:rdkit=\"http://www.rdkit.org/xml\" xmlns:xlink=\"http://www.w3.org/1999/xlink\" version=\"1.1\" baseProfile=\"full\" xml:space=\"preserve\" width=\"300px\" height=\"300px\" viewBox=\"0 0 300 300\">\n",
       "<!-- END OF HEADER -->\n",
       "<rect style=\"opacity:1.0;fill:#FFFFFF;stroke:none\" width=\"300.0\" height=\"300.0\" x=\"0.0\" y=\"0.0\"> </rect>\n",
       "<path class=\"bond-4 atom-4 atom-5\" d=\"M 76.9,199.0 L 85.6,230.5 L 78.7,228.7 L 71.9,204.1 Z\" style=\"fill:#FF7F7F;fill-rule:evenodd;fill-opacity:1;stroke:#FF7F7F;stroke-width:0.0px;stroke-linecap:butt;stroke-linejoin:miter;stroke-opacity:1;\"/>\n",
       "<path class=\"bond-32 atom-4 atom-9\" d=\"M 45.3,190.7 L 76.9,199.0 L 71.9,204.1 L 47.2,197.6 Z\" style=\"fill:#FF7F7F;fill-rule:evenodd;fill-opacity:1;stroke:#FF7F7F;stroke-width:0.0px;stroke-linecap:butt;stroke-linejoin:miter;stroke-opacity:1;\"/>\n",
       "<path class=\"bond-5 atom-5 atom-6\" d=\"M 78.7,228.7 L 85.6,230.5 L 62.6,253.8 L 60.7,246.8 Z\" style=\"fill:#FF7F7F;fill-rule:evenodd;fill-opacity:1;stroke:#FF7F7F;stroke-width:0.0px;stroke-linecap:butt;stroke-linejoin:miter;stroke-opacity:1;\"/>\n",
       "<path class=\"bond-6 atom-6 atom-7\" d=\"M 36.0,240.4 L 60.7,246.8 L 62.6,253.8 L 31.0,245.5 Z\" style=\"fill:#FF7F7F;fill-rule:evenodd;fill-opacity:1;stroke:#FF7F7F;stroke-width:0.0px;stroke-linecap:butt;stroke-linejoin:miter;stroke-opacity:1;\"/>\n",
       "<path class=\"bond-7 atom-7 atom-8\" d=\"M 22.3,213.9 L 29.3,215.8 L 36.0,240.4 L 31.0,245.5 Z\" style=\"fill:#FF7F7F;fill-rule:evenodd;fill-opacity:1;stroke:#FF7F7F;stroke-width:0.0px;stroke-linecap:butt;stroke-linejoin:miter;stroke-opacity:1;\"/>\n",
       "<path class=\"bond-8 atom-8 atom-9\" d=\"M 45.3,190.7 L 47.2,197.6 L 29.3,215.8 L 22.3,213.9 Z\" style=\"fill:#FF7F7F;fill-rule:evenodd;fill-opacity:1;stroke:#FF7F7F;stroke-width:0.0px;stroke-linecap:butt;stroke-linejoin:miter;stroke-opacity:1;\"/>\n",
       "<ellipse cx=\"74.4\" cy=\"201.5\" rx=\"5.8\" ry=\"5.8\" class=\"atom-4\" style=\"fill:#FF7F7F;fill-rule:evenodd;stroke:#FF7F7F;stroke-width:1.0px;stroke-linecap:butt;stroke-linejoin:miter;stroke-opacity:1\"/>\n",
       "<ellipse cx=\"82.1\" cy=\"229.6\" rx=\"5.8\" ry=\"5.9\" class=\"atom-5\" style=\"fill:#FF7F7F;fill-rule:evenodd;stroke:#FF7F7F;stroke-width:1.0px;stroke-linecap:butt;stroke-linejoin:miter;stroke-opacity:1\"/>\n",
       "<ellipse cx=\"61.7\" cy=\"250.3\" rx=\"5.8\" ry=\"6.0\" class=\"atom-6\" style=\"fill:#FF7F7F;fill-rule:evenodd;stroke:#FF7F7F;stroke-width:1.0px;stroke-linecap:butt;stroke-linejoin:miter;stroke-opacity:1\"/>\n",
       "<ellipse cx=\"33.5\" cy=\"242.9\" rx=\"5.8\" ry=\"5.8\" class=\"atom-7\" style=\"fill:#FF7F7F;fill-rule:evenodd;stroke:#FF7F7F;stroke-width:1.0px;stroke-linecap:butt;stroke-linejoin:miter;stroke-opacity:1\"/>\n",
       "<ellipse cx=\"25.8\" cy=\"214.9\" rx=\"5.8\" ry=\"6.0\" class=\"atom-8\" style=\"fill:#FF7F7F;fill-rule:evenodd;stroke:#FF7F7F;stroke-width:1.0px;stroke-linecap:butt;stroke-linejoin:miter;stroke-opacity:1\"/>\n",
       "<ellipse cx=\"46.3\" cy=\"194.2\" rx=\"5.8\" ry=\"6.0\" class=\"atom-9\" style=\"fill:#FF7F7F;fill-rule:evenodd;stroke:#FF7F7F;stroke-width:1.0px;stroke-linecap:butt;stroke-linejoin:miter;stroke-opacity:1\"/>\n",
       "<path class=\"bond-0 atom-0 atom-1\" d=\"M 131.3,140.5 L 120.9,137.8\" style=\"fill:none;fill-rule:evenodd;stroke:#FF0000;stroke-width:2.0px;stroke-linecap:butt;stroke-linejoin:miter;stroke-opacity:1\"/>\n",
       "<path class=\"bond-0 atom-0 atom-1\" d=\"M 120.9,137.8 L 110.6,135.1\" style=\"fill:none;fill-rule:evenodd;stroke:#000000;stroke-width:2.0px;stroke-linecap:butt;stroke-linejoin:miter;stroke-opacity:1\"/>\n",
       "<path class=\"bond-0 atom-0 atom-1\" d=\"M 132.4,136.3 L 122.0,133.6\" style=\"fill:none;fill-rule:evenodd;stroke:#FF0000;stroke-width:2.0px;stroke-linecap:butt;stroke-linejoin:miter;stroke-opacity:1\"/>\n",
       "<path class=\"bond-0 atom-0 atom-1\" d=\"M 122.0,133.6 L 111.7,130.9\" style=\"fill:none;fill-rule:evenodd;stroke:#000000;stroke-width:2.0px;stroke-linecap:butt;stroke-linejoin:miter;stroke-opacity:1\"/>\n",
       "<path class=\"bond-1 atom-1 atom-2\" d=\"M 104.2,135.5 L 97.6,142.3\" style=\"fill:none;fill-rule:evenodd;stroke:#000000;stroke-width:2.0px;stroke-linecap:butt;stroke-linejoin:miter;stroke-opacity:1\"/>\n",
       "<path class=\"bond-1 atom-1 atom-2\" d=\"M 97.6,142.3 L 90.9,149.0\" style=\"fill:none;fill-rule:evenodd;stroke:#0000FF;stroke-width:2.0px;stroke-linecap:butt;stroke-linejoin:miter;stroke-opacity:1\"/>\n",
       "<path class=\"bond-2 atom-2 atom-3\" d=\"M 88.6,157.9 L 91.0,166.8\" style=\"fill:none;fill-rule:evenodd;stroke:#0000FF;stroke-width:2.0px;stroke-linecap:butt;stroke-linejoin:miter;stroke-opacity:1\"/>\n",
       "<path class=\"bond-2 atom-2 atom-3\" d=\"M 91.0,166.8 L 93.5,175.7\" style=\"fill:none;fill-rule:evenodd;stroke:#000000;stroke-width:2.0px;stroke-linecap:butt;stroke-linejoin:miter;stroke-opacity:1\"/>\n",
       "<path class=\"bond-3 atom-3 atom-4\" d=\"M 91.2,184.6 L 78.6,197.4\" style=\"fill:none;fill-rule:evenodd;stroke:#000000;stroke-width:2.0px;stroke-linecap:butt;stroke-linejoin:miter;stroke-opacity:1\"/>\n",
       "<path class=\"bond-4 atom-4 atom-5\" d=\"M 75.8,206.6 L 80.7,224.5\" style=\"fill:none;fill-rule:evenodd;stroke:#000000;stroke-width:2.0px;stroke-linecap:butt;stroke-linejoin:miter;stroke-opacity:1\"/>\n",
       "<path class=\"bond-5 atom-5 atom-6\" d=\"M 78.4,233.4 L 65.5,246.4\" style=\"fill:none;fill-rule:evenodd;stroke:#000000;stroke-width:2.0px;stroke-linecap:butt;stroke-linejoin:miter;stroke-opacity:1\"/>\n",
       "<path class=\"bond-6 atom-6 atom-7\" d=\"M 57.8,249.3 L 37.2,243.9\" style=\"fill:none;fill-rule:evenodd;stroke:#000000;stroke-width:2.0px;stroke-linecap:butt;stroke-linejoin:miter;stroke-opacity:1\"/>\n",
       "<path class=\"bond-7 atom-7 atom-8\" d=\"M 32.1,237.8 L 27.2,220.1\" style=\"fill:none;fill-rule:evenodd;stroke:#000000;stroke-width:2.0px;stroke-linecap:butt;stroke-linejoin:miter;stroke-opacity:1\"/>\n",
       "<path class=\"bond-8 atom-8 atom-9\" d=\"M 29.7,210.9 L 42.5,198.0\" style=\"fill:none;fill-rule:evenodd;stroke:#000000;stroke-width:2.0px;stroke-linecap:butt;stroke-linejoin:miter;stroke-opacity:1\"/>\n",
       "<path class=\"bond-9 atom-1 atom-10\" d=\"M 106.3,127.0 L 101.4,109.2\" style=\"fill:none;fill-rule:evenodd;stroke:#000000;stroke-width:2.0px;stroke-linecap:butt;stroke-linejoin:miter;stroke-opacity:1\"/>\n",
       "<path class=\"bond-10 atom-10 atom-11\" d=\"M 109.5,95.9 L 108.0,94.4\" style=\"fill:none;fill-rule:evenodd;stroke:#000000;stroke-width:1.0px;stroke-linecap:butt;stroke-linejoin:miter;stroke-opacity:1\"/>\n",
       "<path class=\"bond-10 atom-10 atom-11\" d=\"M 113.0,93.8 L 110.0,90.8\" style=\"fill:none;fill-rule:evenodd;stroke:#000000;stroke-width:1.0px;stroke-linecap:butt;stroke-linejoin:miter;stroke-opacity:1\"/>\n",
       "<path class=\"bond-11 atom-11 atom-12\" d=\"M 126.9,85.0 L 141.9,88.9\" style=\"fill:none;fill-rule:evenodd;stroke:#000000;stroke-width:2.0px;stroke-linecap:butt;stroke-linejoin:miter;stroke-opacity:1\"/>\n",
       "<path class=\"bond-12 atom-12 atom-13\" d=\"M 150.0,95.8 L 154.9,113.6\" style=\"fill:none;fill-rule:evenodd;stroke:#000000;stroke-width:2.0px;stroke-linecap:butt;stroke-linejoin:miter;stroke-opacity:1\"/>\n",
       "<path class=\"bond-12 atom-12 atom-13\" d=\"M 154.2,94.6 L 159.1,112.5\" style=\"fill:none;fill-rule:evenodd;stroke:#000000;stroke-width:2.0px;stroke-linecap:butt;stroke-linejoin:miter;stroke-opacity:1\"/>\n",
       "<path class=\"bond-13 atom-13 atom-14\" d=\"M 160.0,119.7 L 177.3,124.2\" style=\"fill:none;fill-rule:evenodd;stroke:#000000;stroke-width:2.0px;stroke-linecap:butt;stroke-linejoin:miter;stroke-opacity:1\"/>\n",
       "<path class=\"bond-14 atom-14 atom-15\" d=\"M 185.8,131.2 L 190.8,149.1\" style=\"fill:none;fill-rule:evenodd;stroke:#000000;stroke-width:2.0px;stroke-linecap:butt;stroke-linejoin:miter;stroke-opacity:1\"/>\n",
       "<path class=\"bond-14 atom-14 atom-15\" d=\"M 190.1,130.1 L 195.0,148.0\" style=\"fill:none;fill-rule:evenodd;stroke:#000000;stroke-width:2.0px;stroke-linecap:butt;stroke-linejoin:miter;stroke-opacity:1\"/>\n",
       "<path class=\"bond-15 atom-15 atom-16\" d=\"M 195.9,155.2 L 213.5,159.8\" style=\"fill:none;fill-rule:evenodd;stroke:#000000;stroke-width:2.0px;stroke-linecap:butt;stroke-linejoin:miter;stroke-opacity:1\"/>\n",
       "<path class=\"bond-16 atom-16 atom-17\" d=\"M 225.4,156.4 L 237.3,144.4\" style=\"fill:none;fill-rule:evenodd;stroke:#000000;stroke-width:2.0px;stroke-linecap:butt;stroke-linejoin:miter;stroke-opacity:1\"/>\n",
       "<path class=\"bond-16 atom-16 atom-17\" d=\"M 222.3,153.4 L 234.2,141.3\" style=\"fill:none;fill-rule:evenodd;stroke:#000000;stroke-width:2.0px;stroke-linecap:butt;stroke-linejoin:miter;stroke-opacity:1\"/>\n",
       "<path class=\"bond-17 atom-17 atom-18\" d=\"M 239.4,135.8 L 234.5,117.9\" style=\"fill:none;fill-rule:evenodd;stroke:#000000;stroke-width:2.0px;stroke-linecap:butt;stroke-linejoin:miter;stroke-opacity:1\"/>\n",
       "<path class=\"bond-18 atom-18 atom-19\" d=\"M 229.6,111.9 L 211.7,107.2\" style=\"fill:none;fill-rule:evenodd;stroke:#000000;stroke-width:2.0px;stroke-linecap:butt;stroke-linejoin:miter;stroke-opacity:1\"/>\n",
       "<path class=\"bond-18 atom-18 atom-19\" d=\"M 228.5,116.1 L 210.6,111.4\" style=\"fill:none;fill-rule:evenodd;stroke:#000000;stroke-width:2.0px;stroke-linecap:butt;stroke-linejoin:miter;stroke-opacity:1\"/>\n",
       "<path class=\"bond-19 atom-19 atom-20\" d=\"M 203.5,100.3 L 201.1,91.4\" style=\"fill:none;fill-rule:evenodd;stroke:#000000;stroke-width:2.0px;stroke-linecap:butt;stroke-linejoin:miter;stroke-opacity:1\"/>\n",
       "<path class=\"bond-19 atom-19 atom-20\" d=\"M 201.1,91.4 L 198.6,82.5\" style=\"fill:none;fill-rule:evenodd;stroke:#0000FF;stroke-width:2.0px;stroke-linecap:butt;stroke-linejoin:miter;stroke-opacity:1\"/>\n",
       "<path class=\"bond-20 atom-20 atom-21\" d=\"M 193.5,76.4 L 184.7,74.1\" style=\"fill:none;fill-rule:evenodd;stroke:#0000FF;stroke-width:2.0px;stroke-linecap:butt;stroke-linejoin:miter;stroke-opacity:1\"/>\n",
       "<path class=\"bond-20 atom-20 atom-21\" d=\"M 184.7,74.1 L 175.9,71.8\" style=\"fill:none;fill-rule:evenodd;stroke:#000000;stroke-width:2.0px;stroke-linecap:butt;stroke-linejoin:miter;stroke-opacity:1\"/>\n",
       "<path class=\"bond-20 atom-20 atom-21\" d=\"M 192.4,80.6 L 183.6,78.3\" style=\"fill:none;fill-rule:evenodd;stroke:#0000FF;stroke-width:2.0px;stroke-linecap:butt;stroke-linejoin:miter;stroke-opacity:1\"/>\n",
       "<path class=\"bond-20 atom-20 atom-21\" d=\"M 183.6,78.3 L 174.8,76.0\" style=\"fill:none;fill-rule:evenodd;stroke:#000000;stroke-width:2.0px;stroke-linecap:butt;stroke-linejoin:miter;stroke-opacity:1\"/>\n",
       "<path class=\"bond-21 atom-21 atom-22\" d=\"M 167.7,64.8 L 165.2,55.9\" style=\"fill:none;fill-rule:evenodd;stroke:#000000;stroke-width:2.0px;stroke-linecap:butt;stroke-linejoin:miter;stroke-opacity:1\"/>\n",
       "<path class=\"bond-21 atom-21 atom-22\" d=\"M 165.2,55.9 L 162.8,47.0\" style=\"fill:none;fill-rule:evenodd;stroke:#0000FF;stroke-width:2.0px;stroke-linecap:butt;stroke-linejoin:miter;stroke-opacity:1\"/>\n",
       "<path class=\"bond-22 atom-16 atom-23\" d=\"M 221.7,166.8 L 226.6,184.5\" style=\"fill:none;fill-rule:evenodd;stroke:#000000;stroke-width:2.0px;stroke-linecap:butt;stroke-linejoin:miter;stroke-opacity:1\"/>\n",
       "<path class=\"bond-23 atom-23 atom-24\" d=\"M 222.9,194.8 L 211.7,206.2\" style=\"fill:none;fill-rule:evenodd;stroke:#000000;stroke-width:2.0px;stroke-linecap:butt;stroke-linejoin:miter;stroke-opacity:1\"/>\n",
       "<path class=\"bond-23 atom-23 atom-24\" d=\"M 226.0,197.8 L 214.8,209.2\" style=\"fill:none;fill-rule:evenodd;stroke:#000000;stroke-width:2.0px;stroke-linecap:butt;stroke-linejoin:miter;stroke-opacity:1\"/>\n",
       "<path class=\"bond-24 atom-24 atom-25\" d=\"M 208.9,215.5 L 213.8,233.4\" style=\"fill:none;fill-rule:evenodd;stroke:#000000;stroke-width:2.0px;stroke-linecap:butt;stroke-linejoin:miter;stroke-opacity:1\"/>\n",
       "<path class=\"bond-25 atom-25 atom-26\" d=\"M 219.0,239.4 L 236.1,243.9\" style=\"fill:none;fill-rule:evenodd;stroke:#000000;stroke-width:2.0px;stroke-linecap:butt;stroke-linejoin:miter;stroke-opacity:1\"/>\n",
       "<path class=\"bond-25 atom-25 atom-26\" d=\"M 220.1,235.2 L 237.2,239.7\" style=\"fill:none;fill-rule:evenodd;stroke:#000000;stroke-width:2.0px;stroke-linecap:butt;stroke-linejoin:miter;stroke-opacity:1\"/>\n",
       "<path class=\"bond-26 atom-26 atom-27\" d=\"M 248.4,240.7 L 260.1,228.9\" style=\"fill:none;fill-rule:evenodd;stroke:#000000;stroke-width:2.0px;stroke-linecap:butt;stroke-linejoin:miter;stroke-opacity:1\"/>\n",
       "<path class=\"bond-27 atom-27 atom-28\" d=\"M 262.4,220.0 L 257.6,202.3\" style=\"fill:none;fill-rule:evenodd;stroke:#000000;stroke-width:2.0px;stroke-linecap:butt;stroke-linejoin:miter;stroke-opacity:1\"/>\n",
       "<path class=\"bond-27 atom-27 atom-28\" d=\"M 258.2,221.1 L 253.4,203.4\" style=\"fill:none;fill-rule:evenodd;stroke:#000000;stroke-width:2.0px;stroke-linecap:butt;stroke-linejoin:miter;stroke-opacity:1\"/>\n",
       "<path class=\"bond-28 atom-28 atom-29\" d=\"M 261.2,191.9 L 272.9,180.1\" style=\"fill:none;fill-rule:evenodd;stroke:#000000;stroke-width:2.0px;stroke-linecap:butt;stroke-linejoin:miter;stroke-opacity:1\"/>\n",
       "<path class=\"bond-29 atom-10 atom-30\" d=\"M 93.0,102.2 L 79.2,98.6\" style=\"fill:none;fill-rule:evenodd;stroke:#000000;stroke-width:2.0px;stroke-linecap:butt;stroke-linejoin:miter;stroke-opacity:1\"/>\n",
       "<path class=\"bond-30 atom-30 atom-31\" d=\"M 66.6,101.9 L 56.4,112.2\" style=\"fill:none;fill-rule:evenodd;stroke:#000000;stroke-width:2.0px;stroke-linecap:butt;stroke-linejoin:miter;stroke-opacity:1\"/>\n",
       "<path class=\"bond-31 atom-31 atom-32\" d=\"M 44.5,115.5 L 26.9,110.9\" style=\"fill:none;fill-rule:evenodd;stroke:#000000;stroke-width:2.0px;stroke-linecap:butt;stroke-linejoin:miter;stroke-opacity:1\"/>\n",
       "<path class=\"bond-32 atom-9 atom-4\" d=\"M 50.1,195.2 L 70.3,200.4\" style=\"fill:none;fill-rule:evenodd;stroke:#000000;stroke-width:2.0px;stroke-linecap:butt;stroke-linejoin:miter;stroke-opacity:1\"/>\n",
       "<path class=\"bond-33 atom-21 atom-12\" d=\"M 164.0,75.1 L 153.7,85.5\" style=\"fill:none;fill-rule:evenodd;stroke:#000000;stroke-width:2.0px;stroke-linecap:butt;stroke-linejoin:miter;stroke-opacity:1\"/>\n",
       "<path class=\"bond-34 atom-28 atom-23\" d=\"M 248.9,195.1 L 235.1,191.5\" style=\"fill:none;fill-rule:evenodd;stroke:#000000;stroke-width:2.0px;stroke-linecap:butt;stroke-linejoin:miter;stroke-opacity:1\"/>\n",
       "<path class=\"bond-35 atom-19 atom-14\" d=\"M 199.8,110.5 L 189.4,121.1\" style=\"fill:none;fill-rule:evenodd;stroke:#000000;stroke-width:2.0px;stroke-linecap:butt;stroke-linejoin:miter;stroke-opacity:1\"/>\n",
       "<path class=\"atom-0\" d=\"M 135.8 143.7 Q 134.3 143.7, 133.6 142.6 Q 132.8 141.5, 132.8 139.5 Q 132.8 137.5, 133.6 136.4 Q 134.3 135.3, 135.8 135.3 Q 137.3 135.3, 138.1 136.4 Q 138.8 137.5, 138.8 139.5 Q 138.8 141.5, 138.1 142.6 Q 137.3 143.7, 135.8 143.7 M 135.8 142.8 Q 136.7 142.8, 137.2 141.9 Q 137.7 141.1, 137.7 139.5 Q 137.7 137.9, 137.2 137.0 Q 136.7 136.2, 135.8 136.2 Q 134.9 136.2, 134.5 137.0 Q 134.0 137.9, 134.0 139.5 Q 134.0 141.1, 134.5 141.9 Q 134.9 142.8, 135.8 142.8 \" fill=\"#FF0000\"/>\n",
       "<path class=\"atom-1\" d=\"M 105.6 135.3 L 107.4 135.3 L 107.4 129.1 L 105.4 129.7 L 105.2 129.0 L 107.7 127.9 L 108.5 128.1 L 108.5 135.3 L 110.2 135.3 L 110.2 136.2 L 105.6 136.2 L 105.6 135.3 \" fill=\"#000000\"/>\n",
       "<path class=\"atom-2\" d=\"M 84.4 150.2 Q 84.8 149.5, 85.5 149.0 Q 86.2 148.6, 87.2 148.6 Q 88.4 148.6, 89.1 149.3 Q 89.8 149.9, 89.8 151.1 Q 89.8 152.4, 88.9 153.5 Q 88.0 154.6, 86.2 156.0 L 90.0 156.0 L 90.0 156.9 L 84.4 156.9 L 84.4 156.1 Q 86.0 155.1, 86.9 154.2 Q 87.8 153.4, 88.2 152.7 Q 88.7 152.0, 88.7 151.2 Q 88.7 150.4, 88.3 150.0 Q 87.9 149.5, 87.2 149.5 Q 86.5 149.5, 86.1 149.8 Q 85.6 150.1, 85.3 150.7 L 84.4 150.2 \" fill=\"#0000FF\"/>\n",
       "<path class=\"atom-3\" d=\"M 96.1 180.7 Q 96.9 180.9, 97.3 181.4 Q 97.7 181.9, 97.7 182.7 Q 97.7 183.4, 97.3 184.0 Q 97.0 184.5, 96.3 184.8 Q 95.7 185.1, 94.8 185.1 Q 94.0 185.1, 93.3 184.8 Q 92.6 184.5, 92.1 183.9 L 92.8 183.2 Q 93.3 183.8, 93.7 184.0 Q 94.2 184.2, 94.8 184.2 Q 95.6 184.2, 96.0 183.8 Q 96.5 183.4, 96.5 182.7 Q 96.5 181.9, 96.0 181.5 Q 95.6 181.1, 94.5 181.1 L 94.0 181.1 L 94.0 180.3 L 94.5 180.3 Q 95.4 180.3, 95.8 179.9 Q 96.3 179.5, 96.3 178.8 Q 96.3 178.2, 95.9 177.9 Q 95.5 177.6, 94.9 177.6 Q 94.2 177.6, 93.7 177.8 Q 93.3 178.1, 93.0 178.7 L 92.2 178.3 Q 92.5 177.6, 93.2 177.1 Q 93.9 176.7, 94.9 176.7 Q 96.1 176.7, 96.8 177.2 Q 97.5 177.8, 97.5 178.8 Q 97.5 179.4, 97.1 179.9 Q 96.8 180.4, 96.1 180.7 \" fill=\"#000000\"/>\n",
       "<path class=\"atom-4\" d=\"M 76.6 202.8 L 77.6 202.8 L 77.6 203.8 L 76.6 203.8 L 76.6 205.7 L 75.5 205.7 L 75.5 203.8 L 71.3 203.8 L 71.3 203.0 L 74.9 197.4 L 76.6 197.4 L 76.6 202.8 M 72.6 202.8 L 75.5 202.8 L 75.5 198.2 L 72.6 202.8 \" fill=\"#000000\"/>\n",
       "<path class=\"atom-5\" d=\"M 82.3 228.6 Q 83.0 228.6, 83.6 228.9 Q 84.2 229.2, 84.6 229.8 Q 84.9 230.3, 84.9 231.1 Q 84.9 232.0, 84.5 232.6 Q 84.1 233.2, 83.4 233.5 Q 82.7 233.8, 82.0 233.8 Q 81.2 233.8, 80.5 233.5 Q 79.8 233.3, 79.3 232.7 L 80.0 232.0 Q 80.4 232.4, 80.9 232.7 Q 81.5 232.9, 82.0 232.9 Q 82.7 232.9, 83.2 232.4 Q 83.7 232.0, 83.7 231.1 Q 83.7 230.3, 83.2 229.9 Q 82.7 229.4, 81.9 229.4 Q 81.2 229.4, 80.4 229.8 L 79.8 229.5 L 80.2 225.5 L 84.4 225.5 L 84.3 226.4 L 81.1 226.4 L 80.9 228.9 Q 81.6 228.6, 82.3 228.6 \" fill=\"#000000\"/>\n",
       "<path class=\"atom-6\" d=\"M 62.0 249.3 Q 62.7 249.3, 63.3 249.6 Q 63.9 250.0, 64.2 250.5 Q 64.5 251.1, 64.5 251.8 Q 64.5 252.6, 64.2 253.2 Q 63.8 253.9, 63.2 254.2 Q 62.5 254.6, 61.7 254.6 Q 60.3 254.6, 59.5 253.6 Q 58.8 252.6, 58.8 250.6 Q 58.8 248.4, 59.7 247.3 Q 60.6 246.1, 62.4 246.1 Q 62.9 246.1, 63.3 246.2 Q 63.8 246.4, 64.2 246.6 L 63.7 247.4 Q 63.1 247.1, 62.4 247.1 Q 61.2 247.1, 60.6 247.8 Q 60.0 248.6, 60.0 250.1 Q 60.4 249.7, 60.9 249.5 Q 61.4 249.3, 62.0 249.3 M 61.8 253.6 Q 62.2 253.6, 62.6 253.4 Q 62.9 253.1, 63.1 252.7 Q 63.3 252.3, 63.3 251.8 Q 63.3 251.1, 62.9 250.7 Q 62.5 250.3, 61.8 250.3 Q 61.3 250.3, 60.8 250.5 Q 60.3 250.7, 60.0 251.0 Q 60.0 252.4, 60.4 253.0 Q 60.9 253.6, 61.8 253.6 \" fill=\"#000000\"/>\n",
       "<path class=\"atom-7\" d=\"M 35.1 239.7 L 30.8 239.7 L 30.8 238.8 L 36.2 238.8 L 36.2 239.6 L 32.9 247.0 L 31.8 247.0 L 35.1 239.7 \" fill=\"#000000\"/>\n",
       "<path class=\"atom-8\" d=\"M 27.1 214.7 Q 27.9 215.0, 28.3 215.5 Q 28.7 215.9, 28.7 216.8 Q 28.7 217.5, 28.4 218.0 Q 28.0 218.5, 27.3 218.8 Q 26.7 219.1, 25.9 219.1 Q 24.5 219.1, 23.7 218.5 Q 22.9 217.9, 22.9 216.8 Q 22.9 216.1, 23.2 215.6 Q 23.6 215.1, 24.3 214.7 Q 23.8 214.4, 23.5 213.9 Q 23.2 213.5, 23.2 212.8 Q 23.2 211.8, 23.9 211.3 Q 24.6 210.7, 25.8 210.7 Q 27.0 210.7, 27.7 211.3 Q 28.4 211.8, 28.4 212.8 Q 28.4 213.4, 28.1 213.9 Q 27.7 214.3, 27.1 214.7 M 25.8 211.6 Q 25.1 211.6, 24.7 211.9 Q 24.4 212.2, 24.4 212.8 Q 24.4 213.2, 24.6 213.5 Q 24.9 213.8, 25.2 214.0 Q 25.6 214.1, 26.3 214.4 Q 26.8 214.0, 27.0 213.6 Q 27.2 213.3, 27.2 212.8 Q 27.2 212.2, 26.9 211.9 Q 26.5 211.6, 25.8 211.6 M 25.9 218.3 Q 26.6 218.3, 27.1 217.9 Q 27.6 217.4, 27.6 216.7 Q 27.6 216.3, 27.3 216.0 Q 27.1 215.7, 26.7 215.6 Q 26.3 215.4, 25.7 215.2 L 25.2 215.0 Q 24.6 215.4, 24.3 215.8 Q 24.1 216.2, 24.1 216.7 Q 24.1 217.4, 24.5 217.9 Q 25.0 218.3, 25.9 218.3 \" fill=\"#000000\"/>\n",
       "<path class=\"atom-9\" d=\"M 46.2 190.0 Q 47.7 190.0, 48.4 191.0 Q 49.1 192.0, 49.1 194.0 Q 49.1 196.1, 48.2 197.3 Q 47.3 198.4, 45.5 198.4 Q 45.0 198.4, 44.6 198.3 Q 44.2 198.2, 43.7 197.9 L 44.2 197.2 Q 44.8 197.5, 45.5 197.5 Q 46.7 197.5, 47.3 196.7 Q 47.9 196.0, 48.0 194.4 Q 47.5 194.8, 47.0 195.0 Q 46.5 195.2, 45.9 195.2 Q 45.2 195.2, 44.6 194.9 Q 44.0 194.6, 43.7 194.0 Q 43.4 193.5, 43.4 192.7 Q 43.4 191.9, 43.8 191.3 Q 44.1 190.7, 44.8 190.3 Q 45.4 190.0, 46.2 190.0 M 44.6 192.7 Q 44.6 193.5, 45.0 193.9 Q 45.4 194.3, 46.1 194.3 Q 46.6 194.3, 47.1 194.1 Q 47.6 193.9, 48.0 193.5 Q 47.9 192.2, 47.5 191.6 Q 47.0 190.9, 46.2 190.9 Q 45.7 190.9, 45.4 191.2 Q 45.0 191.4, 44.8 191.8 Q 44.6 192.2, 44.6 192.7 \" fill=\"#000000\"/>\n",
       "<path class=\"atom-10\" d=\"M 94.4 107.2 L 96.2 107.2 L 96.2 101.1 L 94.2 101.7 L 94.0 101.0 L 96.5 99.9 L 97.3 100.0 L 97.3 107.2 L 98.9 107.2 L 98.9 108.2 L 94.4 108.2 L 94.4 107.2 \" fill=\"#000000\"/>\n",
       "<path class=\"atom-10\" d=\"M 103.0 108.3 Q 101.5 108.3, 100.7 107.1 Q 100.0 106.0, 100.0 104.0 Q 100.0 102.0, 100.7 100.9 Q 101.5 99.8, 103.0 99.8 Q 104.5 99.8, 105.3 100.9 Q 106.0 102.0, 106.0 104.0 Q 106.0 106.0, 105.2 107.1 Q 104.5 108.3, 103.0 108.3 M 103.0 107.3 Q 103.9 107.3, 104.4 106.5 Q 104.8 105.7, 104.8 104.0 Q 104.8 102.4, 104.4 101.6 Q 103.9 100.8, 103.0 100.8 Q 102.1 100.8, 101.6 101.6 Q 101.1 102.4, 101.1 104.0 Q 101.1 105.7, 101.6 106.5 Q 102.1 107.3, 103.0 107.3 \" fill=\"#000000\"/>\n",
       "<path class=\"atom-11\" d=\"M 115.4 86.5 L 117.2 86.5 L 117.2 80.3 L 115.2 81.0 L 115.0 80.3 L 117.5 79.2 L 118.3 79.3 L 118.3 86.5 L 119.9 86.5 L 119.9 87.4 L 115.4 87.4 L 115.4 86.5 \" fill=\"#000000\"/>\n",
       "<path class=\"atom-11\" d=\"M 121.4 86.5 L 123.2 86.5 L 123.2 80.3 L 121.2 81.0 L 120.9 80.3 L 123.5 79.2 L 124.3 79.3 L 124.3 86.5 L 125.9 86.5 L 125.9 87.4 L 121.4 87.4 L 121.4 86.5 \" fill=\"#000000\"/>\n",
       "<path class=\"atom-12\" d=\"M 143.3 93.9 L 145.1 93.9 L 145.1 87.7 L 143.1 88.4 L 142.8 87.7 L 145.4 86.5 L 146.2 86.7 L 146.2 93.9 L 147.8 93.9 L 147.8 94.8 L 143.3 94.8 L 143.3 93.9 \" fill=\"#000000\"/>\n",
       "<path class=\"atom-12\" d=\"M 148.8 88.2 Q 149.1 87.4, 149.9 86.9 Q 150.6 86.5, 151.6 86.5 Q 152.8 86.5, 153.5 87.2 Q 154.2 87.9, 154.2 89.1 Q 154.2 90.3, 153.3 91.4 Q 152.4 92.6, 150.6 93.9 L 154.4 93.9 L 154.4 94.8 L 148.8 94.8 L 148.8 94.1 Q 150.4 93.0, 151.3 92.1 Q 152.2 91.3, 152.6 90.6 Q 153.1 89.9, 153.1 89.1 Q 153.1 88.3, 152.7 87.9 Q 152.3 87.4, 151.6 87.4 Q 150.9 87.4, 150.5 87.7 Q 150.0 88.0, 149.7 88.6 L 148.8 88.2 \" fill=\"#000000\"/>\n",
       "<path class=\"atom-13\" d=\"M 148.0 122.0 L 149.8 122.0 L 149.8 115.8 L 147.8 116.4 L 147.5 115.8 L 150.1 114.6 L 150.9 114.8 L 150.9 122.0 L 152.5 122.0 L 152.5 122.9 L 148.0 122.9 L 148.0 122.0 \" fill=\"#000000\"/>\n",
       "<path class=\"atom-13\" d=\"M 157.5 118.6 Q 158.3 118.8, 158.7 119.3 Q 159.1 119.8, 159.1 120.7 Q 159.1 121.4, 158.7 121.9 Q 158.4 122.4, 157.7 122.7 Q 157.1 123.0, 156.2 123.0 Q 155.4 123.0, 154.7 122.7 Q 154.0 122.4, 153.5 121.8 L 154.2 121.1 Q 154.7 121.7, 155.1 121.9 Q 155.6 122.1, 156.2 122.1 Q 157.0 122.1, 157.4 121.7 Q 157.9 121.3, 157.9 120.6 Q 157.9 119.8, 157.4 119.4 Q 157.0 119.0, 155.9 119.0 L 155.3 119.0 L 155.3 118.2 L 155.9 118.2 Q 156.8 118.2, 157.2 117.8 Q 157.7 117.4, 157.7 116.7 Q 157.7 116.1, 157.3 115.8 Q 156.9 115.5, 156.3 115.5 Q 155.6 115.5, 155.1 115.8 Q 154.7 116.0, 154.4 116.6 L 153.6 116.2 Q 153.9 115.5, 154.6 115.0 Q 155.3 114.6, 156.3 114.6 Q 157.5 114.6, 158.2 115.1 Q 158.9 115.7, 158.9 116.7 Q 158.9 117.3, 158.5 117.8 Q 158.2 118.3, 157.5 118.6 \" fill=\"#000000\"/>\n",
       "<path class=\"atom-14\" d=\"M 178.7 129.3 L 180.5 129.3 L 180.5 123.2 L 178.5 123.8 L 178.3 123.1 L 180.8 122.0 L 181.6 122.1 L 181.6 129.3 L 183.2 129.3 L 183.2 130.3 L 178.7 130.3 L 178.7 129.3 \" fill=\"#000000\"/>\n",
       "<path class=\"atom-14\" d=\"M 189.6 127.4 L 190.6 127.4 L 190.6 128.4 L 189.6 128.4 L 189.6 130.3 L 188.5 130.3 L 188.5 128.4 L 184.3 128.4 L 184.3 127.6 L 187.9 122.0 L 189.6 122.0 L 189.6 127.4 M 185.6 127.4 L 188.5 127.4 L 188.5 122.8 L 185.6 127.4 \" fill=\"#000000\"/>\n",
       "<path class=\"atom-15\" d=\"M 183.8 157.4 L 185.6 157.4 L 185.6 151.2 L 183.6 151.9 L 183.4 151.2 L 185.9 150.0 L 186.7 150.2 L 186.7 157.4 L 188.3 157.4 L 188.3 158.3 L 183.8 158.3 L 183.8 157.4 \" fill=\"#000000\"/>\n",
       "<path class=\"atom-15\" d=\"M 192.3 153.2 Q 193.1 153.2, 193.7 153.5 Q 194.3 153.8, 194.6 154.4 Q 194.9 154.9, 194.9 155.7 Q 194.9 156.6, 194.5 157.2 Q 194.1 157.8, 193.4 158.1 Q 192.7 158.4, 192.0 158.4 Q 191.2 158.4, 190.5 158.1 Q 189.8 157.9, 189.3 157.3 L 190.0 156.6 Q 190.4 157.0, 191.0 157.3 Q 191.5 157.5, 192.0 157.5 Q 192.7 157.5, 193.2 157.0 Q 193.8 156.6, 193.8 155.7 Q 193.8 154.9, 193.2 154.5 Q 192.7 154.0, 191.9 154.0 Q 191.2 154.0, 190.4 154.4 L 189.8 154.1 L 190.2 150.1 L 194.4 150.1 L 194.3 151.0 L 191.1 151.0 L 190.9 153.5 Q 191.6 153.2, 192.3 153.2 \" fill=\"#000000\"/>\n",
       "<path class=\"atom-16\" d=\"M 214.9 164.8 L 216.7 164.8 L 216.7 158.6 L 214.7 159.3 L 214.4 158.6 L 217.0 157.4 L 217.8 157.6 L 217.8 164.8 L 219.4 164.8 L 219.4 165.7 L 214.9 165.7 L 214.9 164.8 \" fill=\"#000000\"/>\n",
       "<path class=\"atom-16\" d=\"M 223.7 160.6 Q 224.4 160.6, 225.0 160.9 Q 225.5 161.2, 225.8 161.8 Q 226.2 162.4, 226.2 163.1 Q 226.2 163.9, 225.8 164.5 Q 225.4 165.1, 224.8 165.5 Q 224.2 165.8, 223.4 165.8 Q 221.9 165.8, 221.2 164.8 Q 220.4 163.8, 220.4 161.9 Q 220.4 159.7, 221.3 158.5 Q 222.3 157.4, 224.0 157.4 Q 224.5 157.4, 225.0 157.5 Q 225.4 157.6, 225.8 157.9 L 225.4 158.7 Q 224.8 158.3, 224.0 158.3 Q 222.9 158.3, 222.3 159.1 Q 221.7 159.8, 221.6 161.4 Q 222.0 161.0, 222.6 160.8 Q 223.1 160.6, 223.7 160.6 M 223.4 164.9 Q 223.8 164.9, 224.2 164.6 Q 224.6 164.4, 224.8 164.0 Q 225.0 163.6, 225.0 163.1 Q 225.0 162.4, 224.6 161.9 Q 224.2 161.5, 223.4 161.5 Q 222.9 161.5, 222.4 161.7 Q 222.0 161.9, 221.6 162.3 Q 221.7 163.6, 222.1 164.3 Q 222.5 164.9, 223.4 164.9 \" fill=\"#000000\"/>\n",
       "<path class=\"atom-17\" d=\"M 238.7 144.1 L 240.5 144.1 L 240.5 137.9 L 238.5 138.5 L 238.3 137.9 L 240.8 136.7 L 241.6 136.9 L 241.6 144.1 L 243.2 144.1 L 243.2 145.0 L 238.7 145.0 L 238.7 144.1 \" fill=\"#000000\"/>\n",
       "<path class=\"atom-17\" d=\"M 248.6 137.7 L 244.3 137.7 L 244.3 136.8 L 249.7 136.8 L 249.7 137.6 L 246.4 145.0 L 245.3 145.0 L 248.6 137.7 \" fill=\"#000000\"/>\n",
       "<path class=\"atom-18\" d=\"M 231.0 116.0 L 232.8 116.0 L 232.8 109.9 L 230.9 110.5 L 230.6 109.8 L 233.1 108.7 L 233.9 108.8 L 233.9 116.0 L 235.6 116.0 L 235.6 117.0 L 231.0 117.0 L 231.0 116.0 \" fill=\"#000000\"/>\n",
       "<path class=\"atom-18\" d=\"M 240.8 112.6 Q 241.5 112.9, 242.0 113.4 Q 242.4 113.9, 242.4 114.7 Q 242.4 115.4, 242.0 116.0 Q 241.7 116.5, 241.0 116.8 Q 240.4 117.1, 239.5 117.1 Q 238.2 117.1, 237.4 116.5 Q 236.6 115.8, 236.6 114.7 Q 236.6 114.0, 236.9 113.5 Q 237.3 113.0, 238.0 112.6 Q 237.5 112.3, 237.2 111.9 Q 236.9 111.4, 236.9 110.7 Q 236.9 109.8, 237.6 109.2 Q 238.3 108.6, 239.5 108.6 Q 240.7 108.6, 241.4 109.2 Q 242.1 109.8, 242.1 110.7 Q 242.1 111.3, 241.8 111.8 Q 241.4 112.2, 240.8 112.6 M 239.5 109.5 Q 238.8 109.5, 238.4 109.8 Q 238.0 110.2, 238.0 110.7 Q 238.0 111.2, 238.3 111.5 Q 238.6 111.7, 238.9 111.9 Q 239.3 112.1, 240.0 112.3 Q 240.5 112.0, 240.7 111.6 Q 240.9 111.2, 240.9 110.7 Q 240.9 110.2, 240.6 109.8 Q 240.2 109.5, 239.5 109.5 M 239.5 116.2 Q 240.3 116.2, 240.8 115.8 Q 241.2 115.4, 241.2 114.7 Q 241.2 114.3, 241.0 114.0 Q 240.8 113.7, 240.4 113.5 Q 240.0 113.4, 239.4 113.2 L 238.8 113.0 Q 238.3 113.3, 238.0 113.8 Q 237.7 114.2, 237.7 114.7 Q 237.7 115.4, 238.2 115.8 Q 238.7 116.2, 239.5 116.2 \" fill=\"#000000\"/>\n",
       "<path class=\"atom-19\" d=\"M 199.5 108.7 L 201.3 108.7 L 201.3 102.5 L 199.3 103.1 L 199.1 102.4 L 201.6 101.3 L 202.4 101.4 L 202.4 108.7 L 204.0 108.7 L 204.0 109.6 L 199.5 109.6 L 199.5 108.7 \" fill=\"#000000\"/>\n",
       "<path class=\"atom-19\" d=\"M 207.8 101.3 Q 209.3 101.3, 210.0 102.3 Q 210.8 103.2, 210.8 105.2 Q 210.8 107.4, 209.8 108.6 Q 208.9 109.7, 207.2 109.7 Q 206.7 109.7, 206.2 109.6 Q 205.8 109.4, 205.4 109.2 L 205.8 108.4 Q 206.4 108.8, 207.2 108.8 Q 208.3 108.8, 208.9 108.0 Q 209.5 107.2, 209.6 105.7 Q 209.2 106.1, 208.6 106.3 Q 208.1 106.5, 207.5 106.5 Q 206.8 106.5, 206.3 106.2 Q 205.7 105.9, 205.4 105.3 Q 205.1 104.7, 205.1 104.0 Q 205.1 103.2, 205.4 102.6 Q 205.8 102.0, 206.4 101.6 Q 207.0 101.3, 207.8 101.3 M 206.2 104.0 Q 206.2 104.7, 206.6 105.1 Q 207.0 105.6, 207.8 105.6 Q 208.3 105.6, 208.7 105.4 Q 209.2 105.2, 209.6 104.8 Q 209.5 103.4, 209.1 102.8 Q 208.7 102.2, 207.8 102.2 Q 207.4 102.2, 207.0 102.4 Q 206.6 102.7, 206.4 103.1 Q 206.2 103.5, 206.2 104.0 \" fill=\"#000000\"/>\n",
       "<path class=\"atom-20\" d=\"M 194.5 74.8 Q 194.8 74.1, 195.5 73.6 Q 196.2 73.2, 197.2 73.2 Q 198.5 73.2, 199.2 73.9 Q 199.9 74.5, 199.9 75.7 Q 199.9 77.0, 198.9 78.1 Q 198.1 79.2, 196.2 80.6 L 200.0 80.6 L 200.0 81.5 L 194.4 81.5 L 194.4 80.7 Q 196.0 79.6, 196.9 78.8 Q 197.8 78.0, 198.3 77.3 Q 198.7 76.5, 198.7 75.8 Q 198.7 75.0, 198.3 74.6 Q 197.9 74.1, 197.2 74.1 Q 196.6 74.1, 196.1 74.4 Q 195.7 74.6, 195.4 75.2 L 194.5 74.8 \" fill=\"#0000FF\"/>\n",
       "<path class=\"atom-20\" d=\"M 204.3 81.6 Q 202.8 81.6, 202.0 80.5 Q 201.3 79.4, 201.3 77.4 Q 201.3 75.4, 202.0 74.3 Q 202.8 73.2, 204.3 73.2 Q 205.8 73.2, 206.6 74.3 Q 207.3 75.4, 207.3 77.4 Q 207.3 79.4, 206.5 80.5 Q 205.8 81.6, 204.3 81.6 M 204.3 80.7 Q 205.2 80.7, 205.7 79.9 Q 206.1 79.0, 206.1 77.4 Q 206.1 75.8, 205.7 74.9 Q 205.2 74.1, 204.3 74.1 Q 203.4 74.1, 202.9 74.9 Q 202.4 75.8, 202.4 77.4 Q 202.4 79.0, 202.9 79.9 Q 203.4 80.7, 204.3 80.7 \" fill=\"#0000FF\"/>\n",
       "<path class=\"atom-21\" d=\"M 163.2 67.5 Q 163.5 66.7, 164.2 66.2 Q 165.0 65.8, 166.0 65.8 Q 167.2 65.8, 167.9 66.5 Q 168.6 67.2, 168.6 68.4 Q 168.6 69.6, 167.7 70.7 Q 166.8 71.9, 164.9 73.2 L 168.7 73.2 L 168.7 74.1 L 163.2 74.1 L 163.2 73.4 Q 164.7 72.3, 165.6 71.5 Q 166.6 70.6, 167.0 69.9 Q 167.4 69.2, 167.4 68.4 Q 167.4 67.6, 167.0 67.2 Q 166.6 66.7, 166.0 66.7 Q 165.3 66.7, 164.9 67.0 Q 164.4 67.3, 164.1 67.9 L 163.2 67.5 \" fill=\"#000000\"/>\n",
       "<path class=\"atom-21\" d=\"M 170.4 73.2 L 172.2 73.2 L 172.2 67.1 L 170.2 67.7 L 170.0 67.0 L 172.5 65.9 L 173.3 66.0 L 173.3 73.2 L 174.9 73.2 L 174.9 74.1 L 170.4 74.1 L 170.4 73.2 \" fill=\"#000000\"/>\n",
       "<path class=\"atom-22\" d=\"M 158.6 39.4 Q 158.9 38.6, 159.6 38.2 Q 160.4 37.7, 161.4 37.7 Q 162.6 37.7, 163.3 38.4 Q 164.0 39.1, 164.0 40.3 Q 164.0 41.5, 163.1 42.6 Q 162.2 43.8, 160.3 45.1 L 164.1 45.1 L 164.1 46.1 L 158.6 46.1 L 158.6 45.3 Q 160.1 44.2, 161.0 43.4 Q 162.0 42.6, 162.4 41.8 Q 162.8 41.1, 162.8 40.3 Q 162.8 39.5, 162.4 39.1 Q 162.1 38.7, 161.4 38.7 Q 160.7 38.7, 160.3 38.9 Q 159.8 39.2, 159.5 39.8 L 158.6 39.4 \" fill=\"#0000FF\"/>\n",
       "<path class=\"atom-22\" d=\"M 165.4 39.4 Q 165.7 38.6, 166.5 38.2 Q 167.2 37.7, 168.2 37.7 Q 169.4 37.7, 170.1 38.4 Q 170.8 39.1, 170.8 40.3 Q 170.8 41.5, 169.9 42.6 Q 169.0 43.8, 167.1 45.1 L 171.0 45.1 L 171.0 46.1 L 165.4 46.1 L 165.4 45.3 Q 166.9 44.2, 167.8 43.4 Q 168.8 42.6, 169.2 41.8 Q 169.7 41.1, 169.7 40.3 Q 169.7 39.5, 169.3 39.1 Q 168.9 38.7, 168.2 38.7 Q 167.5 38.7, 167.1 38.9 Q 166.6 39.2, 166.3 39.8 L 165.4 39.4 \" fill=\"#0000FF\"/>\n",
       "<path class=\"atom-23\" d=\"M 221.8 187.1 Q 222.1 186.3, 222.9 185.9 Q 223.6 185.5, 224.6 185.5 Q 225.8 185.5, 226.5 186.1 Q 227.2 186.8, 227.2 188.0 Q 227.2 189.2, 226.3 190.4 Q 225.4 191.5, 223.6 192.9 L 227.4 192.9 L 227.4 193.8 L 221.8 193.8 L 221.8 193.0 Q 223.3 191.9, 224.3 191.1 Q 225.2 190.3, 225.6 189.6 Q 226.1 188.8, 226.1 188.1 Q 226.1 187.3, 225.7 186.8 Q 225.3 186.4, 224.6 186.4 Q 223.9 186.4, 223.5 186.7 Q 223.0 186.9, 222.7 187.5 L 221.8 187.1 \" fill=\"#000000\"/>\n",
       "<path class=\"atom-23\" d=\"M 232.6 189.5 Q 233.4 189.7, 233.8 190.2 Q 234.2 190.7, 234.2 191.5 Q 234.2 192.2, 233.8 192.8 Q 233.5 193.3, 232.8 193.6 Q 232.2 193.9, 231.3 193.9 Q 230.5 193.9, 229.8 193.6 Q 229.1 193.3, 228.6 192.7 L 229.3 192.0 Q 229.8 192.6, 230.2 192.8 Q 230.7 193.0, 231.3 193.0 Q 232.1 193.0, 232.5 192.6 Q 233.0 192.2, 233.0 191.5 Q 233.0 190.7, 232.5 190.3 Q 232.1 189.9, 231.0 189.9 L 230.4 189.9 L 230.4 189.1 L 231.0 189.1 Q 231.9 189.1, 232.3 188.7 Q 232.8 188.3, 232.8 187.6 Q 232.8 187.0, 232.4 186.7 Q 232.0 186.4, 231.4 186.4 Q 230.7 186.4, 230.2 186.6 Q 229.8 186.9, 229.5 187.5 L 228.7 187.1 Q 229.0 186.4, 229.7 185.9 Q 230.4 185.5, 231.4 185.5 Q 232.6 185.5, 233.3 186.0 Q 234.0 186.6, 234.0 187.6 Q 234.0 188.2, 233.6 188.7 Q 233.3 189.2, 232.6 189.5 \" fill=\"#000000\"/>\n",
       "<path class=\"atom-24\" d=\"M 197.5 207.8 Q 197.8 207.0, 198.5 206.6 Q 199.3 206.2, 200.3 206.2 Q 201.5 206.2, 202.2 206.8 Q 202.9 207.5, 202.9 208.7 Q 202.9 209.9, 202.0 211.1 Q 201.1 212.2, 199.2 213.6 L 203.1 213.6 L 203.1 214.5 L 197.5 214.5 L 197.5 213.7 Q 199.0 212.6, 199.9 211.8 Q 200.9 211.0, 201.3 210.3 Q 201.8 209.5, 201.8 208.8 Q 201.8 208.0, 201.4 207.5 Q 201.0 207.1, 200.3 207.1 Q 199.6 207.1, 199.2 207.4 Q 198.7 207.6, 198.4 208.2 L 197.5 207.8 \" fill=\"#000000\"/>\n",
       "<path class=\"atom-24\" d=\"M 209.7 211.7 L 210.7 211.7 L 210.7 212.6 L 209.7 212.6 L 209.7 214.5 L 208.6 214.5 L 208.6 212.6 L 204.3 212.6 L 204.3 211.9 L 208.0 206.3 L 209.7 206.3 L 209.7 211.7 M 205.7 211.7 L 208.6 211.7 L 208.6 207.0 L 205.7 211.7 \" fill=\"#000000\"/>\n",
       "<path class=\"atom-25\" d=\"M 205.6 235.9 Q 205.9 235.1, 206.7 234.7 Q 207.4 234.2, 208.4 234.2 Q 209.6 234.2, 210.3 234.9 Q 211.0 235.6, 211.0 236.8 Q 211.0 238.0, 210.1 239.2 Q 209.2 240.3, 207.4 241.6 L 211.2 241.6 L 211.2 242.6 L 205.6 242.6 L 205.6 241.8 Q 207.2 240.7, 208.1 239.9 Q 209.0 239.1, 209.4 238.3 Q 209.9 237.6, 209.9 236.8 Q 209.9 236.1, 209.5 235.6 Q 209.1 235.2, 208.4 235.2 Q 207.7 235.2, 207.3 235.4 Q 206.8 235.7, 206.5 236.3 L 205.6 235.9 \" fill=\"#000000\"/>\n",
       "<path class=\"atom-25\" d=\"M 215.4 237.4 Q 216.1 237.4, 216.7 237.7 Q 217.3 238.0, 217.7 238.6 Q 218.0 239.2, 218.0 240.0 Q 218.0 240.8, 217.6 241.4 Q 217.2 242.0, 216.5 242.4 Q 215.8 242.7, 215.1 242.7 Q 214.3 242.7, 213.6 242.4 Q 212.9 242.1, 212.4 241.6 L 213.1 240.9 Q 213.5 241.3, 214.0 241.5 Q 214.6 241.7, 215.1 241.7 Q 215.8 241.7, 216.3 241.3 Q 216.8 240.8, 216.8 240.0 Q 216.8 239.1, 216.3 238.7 Q 215.8 238.3, 215.0 238.3 Q 214.3 238.3, 213.5 238.6 L 212.9 238.3 L 213.3 234.3 L 217.5 234.3 L 217.4 235.3 L 214.2 235.3 L 214.0 237.7 Q 214.7 237.4, 215.4 237.4 \" fill=\"#000000\"/>\n",
       "<path class=\"atom-26\" d=\"M 237.1 243.3 Q 237.4 242.5, 238.2 242.1 Q 238.9 241.6, 239.9 241.6 Q 241.1 241.6, 241.8 242.3 Q 242.5 243.0, 242.5 244.2 Q 242.5 245.4, 241.6 246.5 Q 240.7 247.7, 238.8 249.0 L 242.7 249.0 L 242.7 249.9 L 237.1 249.9 L 237.1 249.2 Q 238.6 248.1, 239.5 247.3 Q 240.5 246.4, 240.9 245.7 Q 241.4 245.0, 241.4 244.2 Q 241.4 243.4, 241.0 243.0 Q 240.6 242.5, 239.9 242.5 Q 239.2 242.5, 238.8 242.8 Q 238.3 243.1, 238.0 243.7 L 237.1 243.3 \" fill=\"#000000\"/>\n",
       "<path class=\"atom-26\" d=\"M 247.1 244.8 Q 247.9 244.8, 248.4 245.1 Q 249.0 245.4, 249.3 246.0 Q 249.6 246.6, 249.6 247.3 Q 249.6 248.1, 249.3 248.7 Q 248.9 249.3, 248.3 249.7 Q 247.7 250.0, 246.9 250.0 Q 245.4 250.0, 244.7 249.1 Q 243.9 248.1, 243.9 246.1 Q 243.9 243.9, 244.8 242.8 Q 245.7 241.6, 247.5 241.6 Q 248.0 241.6, 248.4 241.7 Q 248.9 241.8, 249.3 242.1 L 248.9 242.9 Q 248.2 242.5, 247.5 242.5 Q 246.4 242.5, 245.8 243.3 Q 245.2 244.0, 245.1 245.6 Q 245.5 245.2, 246.0 245.0 Q 246.6 244.8, 247.1 244.8 M 246.9 249.1 Q 247.3 249.1, 247.7 248.9 Q 248.1 248.6, 248.3 248.2 Q 248.5 247.8, 248.5 247.3 Q 248.5 246.6, 248.1 246.2 Q 247.7 245.7, 246.9 245.7 Q 246.4 245.7, 245.9 245.9 Q 245.4 246.1, 245.1 246.5 Q 245.1 247.9, 245.6 248.5 Q 246.0 249.1, 246.9 249.1 \" fill=\"#000000\"/>\n",
       "<path class=\"atom-27\" d=\"M 261.1 222.6 Q 261.4 221.8, 262.1 221.4 Q 262.8 220.9, 263.8 220.9 Q 265.1 220.9, 265.8 221.6 Q 266.5 222.3, 266.5 223.5 Q 266.5 224.7, 265.6 225.8 Q 264.7 227.0, 262.8 228.3 L 266.6 228.3 L 266.6 229.3 L 261.1 229.3 L 261.1 228.5 Q 262.6 227.4, 263.5 226.6 Q 264.4 225.7, 264.9 225.0 Q 265.3 224.3, 265.3 223.5 Q 265.3 222.7, 264.9 222.3 Q 264.5 221.8, 263.8 221.8 Q 263.2 221.8, 262.7 222.1 Q 262.3 222.4, 262.0 223.0 L 261.1 222.6 \" fill=\"#000000\"/>\n",
       "<path class=\"atom-27\" d=\"M 272.2 221.9 L 267.9 221.9 L 267.9 221.0 L 273.3 221.0 L 273.3 221.8 L 270.0 229.3 L 268.9 229.3 L 272.2 221.9 \" fill=\"#000000\"/>\n",
       "<path class=\"atom-28\" d=\"M 249.8 194.5 Q 250.1 193.7, 250.9 193.3 Q 251.6 192.8, 252.6 192.8 Q 253.8 192.8, 254.5 193.5 Q 255.2 194.2, 255.2 195.4 Q 255.2 196.6, 254.3 197.8 Q 253.4 198.9, 251.6 200.2 L 255.4 200.2 L 255.4 201.2 L 249.8 201.2 L 249.8 200.4 Q 251.4 199.3, 252.3 198.5 Q 253.2 197.7, 253.6 196.9 Q 254.1 196.2, 254.1 195.5 Q 254.1 194.7, 253.7 194.2 Q 253.3 193.8, 252.6 193.8 Q 251.9 193.8, 251.5 194.0 Q 251.0 194.3, 250.7 194.9 L 249.8 194.5 \" fill=\"#000000\"/>\n",
       "<path class=\"atom-28\" d=\"M 260.8 196.8 Q 261.6 197.1, 262.0 197.6 Q 262.5 198.1, 262.5 198.9 Q 262.5 199.6, 262.1 200.2 Q 261.7 200.7, 261.1 201.0 Q 260.4 201.3, 259.6 201.3 Q 258.2 201.3, 257.4 200.7 Q 256.6 200.0, 256.6 198.9 Q 256.6 198.2, 257.0 197.7 Q 257.3 197.2, 258.1 196.8 Q 257.5 196.5, 257.2 196.1 Q 256.9 195.6, 256.9 195.0 Q 256.9 194.0, 257.6 193.4 Q 258.4 192.8, 259.6 192.8 Q 260.8 192.8, 261.5 193.4 Q 262.2 194.0, 262.2 195.0 Q 262.2 195.6, 261.8 196.0 Q 261.5 196.5, 260.8 196.8 M 259.6 193.7 Q 258.9 193.7, 258.5 194.0 Q 258.1 194.4, 258.1 195.0 Q 258.1 195.4, 258.4 195.7 Q 258.6 196.0, 259.0 196.1 Q 259.4 196.3, 260.1 196.5 Q 260.6 196.2, 260.8 195.8 Q 261.0 195.4, 261.0 195.0 Q 261.0 194.4, 260.6 194.0 Q 260.2 193.7, 259.6 193.7 M 259.6 200.4 Q 260.4 200.4, 260.8 200.0 Q 261.3 199.6, 261.3 198.9 Q 261.3 198.5, 261.1 198.2 Q 260.8 197.9, 260.4 197.7 Q 260.1 197.6, 259.4 197.4 L 258.9 197.2 Q 258.3 197.5, 258.1 198.0 Q 257.8 198.4, 257.8 198.9 Q 257.8 199.6, 258.3 200.0 Q 258.8 200.4, 259.6 200.4 \" fill=\"#000000\"/>\n",
       "<path class=\"atom-29\" d=\"M 273.9 173.8 Q 274.2 173.0, 274.9 172.6 Q 275.6 172.1, 276.6 172.1 Q 277.8 172.1, 278.5 172.8 Q 279.2 173.5, 279.2 174.7 Q 279.2 175.9, 278.3 177.1 Q 277.4 178.2, 275.6 179.6 L 279.4 179.6 L 279.4 180.5 L 273.8 180.5 L 273.8 179.7 Q 275.4 178.6, 276.3 177.8 Q 277.2 177.0, 277.6 176.2 Q 278.1 175.5, 278.1 174.8 Q 278.1 174.0, 277.7 173.5 Q 277.3 173.1, 276.6 173.1 Q 275.9 173.1, 275.5 173.3 Q 275.1 173.6, 274.7 174.2 L 273.9 173.8 \" fill=\"#000000\"/>\n",
       "<path class=\"atom-29\" d=\"M 283.4 172.1 Q 284.9 172.1, 285.6 173.1 Q 286.4 174.1, 286.4 176.1 Q 286.4 178.3, 285.4 179.4 Q 284.5 180.6, 282.8 180.6 Q 282.3 180.6, 281.8 180.5 Q 281.4 180.3, 281.0 180.1 L 281.4 179.3 Q 282.0 179.6, 282.8 179.6 Q 283.9 179.6, 284.5 178.9 Q 285.1 178.1, 285.2 176.6 Q 284.8 177.0, 284.2 177.2 Q 283.7 177.4, 283.1 177.4 Q 282.4 177.4, 281.8 177.1 Q 281.3 176.8, 281.0 176.2 Q 280.6 175.6, 280.6 174.9 Q 280.6 174.1, 281.0 173.5 Q 281.4 172.8, 282.0 172.5 Q 282.6 172.1, 283.4 172.1 M 281.8 174.9 Q 281.8 175.6, 282.2 176.0 Q 282.6 176.5, 283.3 176.5 Q 283.8 176.5, 284.3 176.3 Q 284.8 176.0, 285.2 175.7 Q 285.1 174.3, 284.7 173.7 Q 284.3 173.1, 283.4 173.1 Q 283.0 173.1, 282.6 173.3 Q 282.2 173.6, 282.0 174.0 Q 281.8 174.4, 281.8 174.9 \" fill=\"#000000\"/>\n",
       "<path class=\"atom-30\" d=\"M 69.4 96.4 Q 70.2 96.7, 70.5 97.2 Q 70.9 97.7, 70.9 98.5 Q 70.9 99.2, 70.6 99.8 Q 70.2 100.3, 69.6 100.6 Q 69.0 100.9, 68.1 100.9 Q 67.2 100.9, 66.6 100.6 Q 65.9 100.3, 65.4 99.7 L 66.1 99.0 Q 66.6 99.5, 67.0 99.8 Q 67.4 100.0, 68.1 100.0 Q 68.9 100.0, 69.3 99.6 Q 69.8 99.2, 69.8 98.5 Q 69.8 97.7, 69.3 97.3 Q 68.8 96.9, 67.8 96.9 L 67.2 96.9 L 67.2 96.1 L 67.8 96.1 Q 68.6 96.1, 69.1 95.7 Q 69.6 95.3, 69.6 94.6 Q 69.6 94.0, 69.2 93.7 Q 68.8 93.4, 68.1 93.4 Q 67.4 93.4, 67.0 93.6 Q 66.6 93.9, 66.3 94.5 L 65.5 94.1 Q 65.8 93.4, 66.5 92.9 Q 67.2 92.4, 68.1 92.4 Q 69.3 92.4, 70.1 93.0 Q 70.8 93.6, 70.8 94.6 Q 70.8 95.2, 70.4 95.7 Q 70.0 96.2, 69.4 96.4 \" fill=\"#000000\"/>\n",
       "<path class=\"atom-30\" d=\"M 75.2 100.9 Q 73.7 100.9, 73.0 99.8 Q 72.2 98.6, 72.2 96.7 Q 72.2 94.7, 73.0 93.6 Q 73.7 92.4, 75.2 92.4 Q 76.7 92.4, 77.5 93.6 Q 78.2 94.7, 78.2 96.7 Q 78.2 98.6, 77.5 99.8 Q 76.7 100.9, 75.2 100.9 M 75.2 99.9 Q 76.1 99.9, 76.6 99.1 Q 77.1 98.3, 77.1 96.7 Q 77.1 95.0, 76.6 94.2 Q 76.1 93.4, 75.2 93.4 Q 74.3 93.4, 73.8 94.2 Q 73.4 95.0, 73.4 96.7 Q 73.4 98.3, 73.8 99.1 Q 74.3 99.9, 75.2 99.9 \" fill=\"#000000\"/>\n",
       "<path class=\"atom-31\" d=\"M 49.4 117.1 Q 50.3 117.4, 50.6 117.9 Q 51.0 118.4, 51.0 119.2 Q 51.0 119.9, 50.7 120.5 Q 50.3 121.0, 49.7 121.3 Q 49.1 121.6, 48.2 121.6 Q 47.3 121.6, 46.7 121.3 Q 46.0 121.0, 45.5 120.4 L 46.2 119.7 Q 46.7 120.2, 47.1 120.5 Q 47.5 120.7, 48.2 120.7 Q 49.0 120.7, 49.4 120.3 Q 49.9 119.9, 49.9 119.2 Q 49.9 118.4, 49.4 118.0 Q 48.9 117.6, 47.9 117.6 L 47.3 117.6 L 47.3 116.8 L 47.8 116.8 Q 48.7 116.8, 49.2 116.4 Q 49.7 116.0, 49.7 115.3 Q 49.7 114.7, 49.3 114.4 Q 48.9 114.1, 48.2 114.1 Q 47.5 114.1, 47.1 114.3 Q 46.7 114.6, 46.4 115.2 L 45.6 114.8 Q 45.9 114.1, 46.6 113.6 Q 47.2 113.1, 48.2 113.1 Q 49.4 113.1, 50.1 113.7 Q 50.9 114.3, 50.9 115.3 Q 50.9 115.9, 50.5 116.4 Q 50.1 116.9, 49.4 117.1 \" fill=\"#000000\"/>\n",
       "<path class=\"atom-31\" d=\"M 52.7 120.6 L 54.5 120.6 L 54.5 114.4 L 52.5 115.0 L 52.2 114.3 L 54.8 113.2 L 55.6 113.3 L 55.6 120.6 L 57.2 120.6 L 57.2 121.5 L 52.7 121.5 L 52.7 120.6 \" fill=\"#000000\"/>\n",
       "<path class=\"atom-32\" d=\"M 17.6 109.8 Q 18.4 110.0, 18.8 110.5 Q 19.2 111.0, 19.2 111.8 Q 19.2 112.5, 18.8 113.1 Q 18.5 113.6, 17.8 113.9 Q 17.2 114.2, 16.4 114.2 Q 15.5 114.2, 14.8 113.9 Q 14.2 113.6, 13.6 113.0 L 14.3 112.3 Q 14.8 112.9, 15.2 113.1 Q 15.7 113.3, 16.4 113.3 Q 17.1 113.3, 17.6 112.9 Q 18.0 112.5, 18.0 111.8 Q 18.0 111.0, 17.5 110.6 Q 17.1 110.2, 16.1 110.2 L 15.5 110.2 L 15.5 109.4 L 16.0 109.4 Q 16.9 109.4, 17.4 109.0 Q 17.8 108.6, 17.8 107.9 Q 17.8 107.3, 17.4 107.0 Q 17.0 106.7, 16.4 106.7 Q 15.7 106.7, 15.3 106.9 Q 14.8 107.2, 14.5 107.8 L 13.7 107.4 Q 14.0 106.7, 14.7 106.2 Q 15.4 105.8, 16.4 105.8 Q 17.6 105.8, 18.3 106.3 Q 19.0 106.9, 19.0 107.9 Q 19.0 108.5, 18.6 109.0 Q 18.3 109.5, 17.6 109.8 \" fill=\"#000000\"/>\n",
       "<path class=\"atom-32\" d=\"M 20.4 107.4 Q 20.7 106.6, 21.5 106.2 Q 22.2 105.8, 23.2 105.8 Q 24.4 105.8, 25.1 106.4 Q 25.8 107.1, 25.8 108.3 Q 25.8 109.5, 24.9 110.7 Q 24.0 111.8, 22.2 113.2 L 26.0 113.2 L 26.0 114.1 L 20.4 114.1 L 20.4 113.3 Q 22.0 112.2, 22.9 111.4 Q 23.8 110.6, 24.2 109.9 Q 24.7 109.1, 24.7 108.4 Q 24.7 107.6, 24.3 107.1 Q 23.9 106.7, 23.2 106.7 Q 22.5 106.7, 22.1 107.0 Q 21.6 107.2, 21.3 107.8 L 20.4 107.4 \" fill=\"#000000\"/>\n",
       "</svg>"
      ],
      "text/plain": [
       "<IPython.core.display.SVG object>"
      ]
     },
     "execution_count": 14,
     "metadata": {},
     "output_type": "execute_result"
    }
   ],
   "source": [
    "fp.bits[bitidx].show(mol)"
   ]
  },
  {
   "cell_type": "code",
   "execution_count": 17,
   "id": "7005c2a5-1023-4cbb-b481-33611bccfb91",
   "metadata": {},
   "outputs": [
    {
     "data": {
      "text/html": [
       "<div>\n",
       "<style scoped>\n",
       "    .dataframe tbody tr th:only-of-type {\n",
       "        vertical-align: middle;\n",
       "    }\n",
       "\n",
       "    .dataframe tbody tr th {\n",
       "        vertical-align: top;\n",
       "    }\n",
       "\n",
       "    .dataframe thead th {\n",
       "        text-align: right;\n",
       "    }\n",
       "</style>\n",
       "<table border=\"1\" class=\"dataframe\">\n",
       "  <thead>\n",
       "    <tr style=\"text-align: right;\">\n",
       "      <th></th>\n",
       "      <th>idx</th>\n",
       "      <th>name</th>\n",
       "      <th>on</th>\n",
       "      <th>patt</th>\n",
       "      <th>smarts</th>\n",
       "      <th>info</th>\n",
       "      <th>descr</th>\n",
       "      <th>atomInUse</th>\n",
       "      <th>bondInUse</th>\n",
       "    </tr>\n",
       "  </thead>\n",
       "  <tbody>\n",
       "    <tr>\n",
       "      <th>0</th>\n",
       "      <td>0</td>\n",
       "      <td>0</td>\n",
       "      <td>0.0</td>\n",
       "      <td>(&lt;rdkit.Chem.rdchem.Mol object at 0x7f814f97db...</td>\n",
       "      <td>([H], 3)</td>\n",
       "      <td>()</td>\n",
       "      <td>info is atom idx</td>\n",
       "      <td>[]</td>\n",
       "      <td>[]</td>\n",
       "    </tr>\n",
       "    <tr>\n",
       "      <th>1</th>\n",
       "      <td>1</td>\n",
       "      <td>1</td>\n",
       "      <td>0.0</td>\n",
       "      <td>(&lt;rdkit.Chem.rdchem.Mol object at 0x7f814f97db...</td>\n",
       "      <td>([H], 7)</td>\n",
       "      <td>()</td>\n",
       "      <td>info is atom idx</td>\n",
       "      <td>[]</td>\n",
       "      <td>[]</td>\n",
       "    </tr>\n",
       "    <tr>\n",
       "      <th>2</th>\n",
       "      <td>2</td>\n",
       "      <td>2</td>\n",
       "      <td>0.0</td>\n",
       "      <td>(&lt;rdkit.Chem.rdchem.Mol object at 0x7f814f97dc...</td>\n",
       "      <td>([H], 15)</td>\n",
       "      <td>()</td>\n",
       "      <td>info is atom idx</td>\n",
       "      <td>[]</td>\n",
       "      <td>[]</td>\n",
       "    </tr>\n",
       "    <tr>\n",
       "      <th>3</th>\n",
       "      <td>3</td>\n",
       "      <td>3</td>\n",
       "      <td>0.0</td>\n",
       "      <td>(&lt;rdkit.Chem.rdchem.Mol object at 0x7f814f97dc...</td>\n",
       "      <td>([H], 31)</td>\n",
       "      <td>()</td>\n",
       "      <td>info is atom idx</td>\n",
       "      <td>[]</td>\n",
       "      <td>[]</td>\n",
       "    </tr>\n",
       "    <tr>\n",
       "      <th>4</th>\n",
       "      <td>4</td>\n",
       "      <td>4</td>\n",
       "      <td>0.0</td>\n",
       "      <td>(&lt;rdkit.Chem.rdchem.Mol object at 0x7f814f97dc...</td>\n",
       "      <td>([Li], 0)</td>\n",
       "      <td>()</td>\n",
       "      <td>info is atom idx</td>\n",
       "      <td>[]</td>\n",
       "      <td>[]</td>\n",
       "    </tr>\n",
       "    <tr>\n",
       "      <th>...</th>\n",
       "      <td>...</td>\n",
       "      <td>...</td>\n",
       "      <td>...</td>\n",
       "      <td>...</td>\n",
       "      <td>...</td>\n",
       "      <td>...</td>\n",
       "      <td>...</td>\n",
       "      <td>...</td>\n",
       "      <td>...</td>\n",
       "    </tr>\n",
       "    <tr>\n",
       "      <th>876</th>\n",
       "      <td>876</td>\n",
       "      <td>876</td>\n",
       "      <td>0.0</td>\n",
       "      <td>(&lt;rdkit.Chem.rdchem.Mol object at 0x7f814f9234...</td>\n",
       "      <td>([#7][#6]1[#6](Cl)[#6][#6]1, 0)</td>\n",
       "      <td>()</td>\n",
       "      <td>info is atom idx</td>\n",
       "      <td>[]</td>\n",
       "      <td>[]</td>\n",
       "    </tr>\n",
       "    <tr>\n",
       "      <th>877</th>\n",
       "      <td>877</td>\n",
       "      <td>877</td>\n",
       "      <td>0.0</td>\n",
       "      <td>(&lt;rdkit.Chem.rdchem.Mol object at 0x7f814f9234...</td>\n",
       "      <td>([#7][#6]1[#6](Br)[#6][#6][#6]1, 0)</td>\n",
       "      <td>()</td>\n",
       "      <td>info is atom idx</td>\n",
       "      <td>[]</td>\n",
       "      <td>[]</td>\n",
       "    </tr>\n",
       "    <tr>\n",
       "      <th>878</th>\n",
       "      <td>878</td>\n",
       "      <td>878</td>\n",
       "      <td>0.0</td>\n",
       "      <td>(&lt;rdkit.Chem.rdchem.Mol object at 0x7f814f9235...</td>\n",
       "      <td>(Cl[#6]1[#6](Cl)[#6][#6][#6]1, 0)</td>\n",
       "      <td>()</td>\n",
       "      <td>info is atom idx</td>\n",
       "      <td>[]</td>\n",
       "      <td>[]</td>\n",
       "    </tr>\n",
       "    <tr>\n",
       "      <th>879</th>\n",
       "      <td>879</td>\n",
       "      <td>879</td>\n",
       "      <td>0.0</td>\n",
       "      <td>(&lt;rdkit.Chem.rdchem.Mol object at 0x7f814f9235...</td>\n",
       "      <td>(Cl[#6]1[#6](Br)[#6][#6][#6]1, 0)</td>\n",
       "      <td>()</td>\n",
       "      <td>info is atom idx</td>\n",
       "      <td>[]</td>\n",
       "      <td>[]</td>\n",
       "    </tr>\n",
       "    <tr>\n",
       "      <th>880</th>\n",
       "      <td>880</td>\n",
       "      <td>880</td>\n",
       "      <td>0.0</td>\n",
       "      <td>(&lt;rdkit.Chem.rdchem.Mol object at 0x7f814f9235...</td>\n",
       "      <td>(Br[#6]1[#6](Br)[#6][#6][#6]1, 0)</td>\n",
       "      <td>()</td>\n",
       "      <td>info is atom idx</td>\n",
       "      <td>[]</td>\n",
       "      <td>[]</td>\n",
       "    </tr>\n",
       "  </tbody>\n",
       "</table>\n",
       "<p>881 rows × 9 columns</p>\n",
       "</div>"
      ],
      "text/plain": [
       "     idx  name   on                                               patt  \\\n",
       "0      0     0  0.0  (<rdkit.Chem.rdchem.Mol object at 0x7f814f97db...   \n",
       "1      1     1  0.0  (<rdkit.Chem.rdchem.Mol object at 0x7f814f97db...   \n",
       "2      2     2  0.0  (<rdkit.Chem.rdchem.Mol object at 0x7f814f97dc...   \n",
       "3      3     3  0.0  (<rdkit.Chem.rdchem.Mol object at 0x7f814f97dc...   \n",
       "4      4     4  0.0  (<rdkit.Chem.rdchem.Mol object at 0x7f814f97dc...   \n",
       "..   ...   ...  ...                                                ...   \n",
       "876  876   876  0.0  (<rdkit.Chem.rdchem.Mol object at 0x7f814f9234...   \n",
       "877  877   877  0.0  (<rdkit.Chem.rdchem.Mol object at 0x7f814f9234...   \n",
       "878  878   878  0.0  (<rdkit.Chem.rdchem.Mol object at 0x7f814f9235...   \n",
       "879  879   879  0.0  (<rdkit.Chem.rdchem.Mol object at 0x7f814f9235...   \n",
       "880  880   880  0.0  (<rdkit.Chem.rdchem.Mol object at 0x7f814f9235...   \n",
       "\n",
       "                                  smarts info             descr atomInUse  \\\n",
       "0                               ([H], 3)   ()  info is atom idx        []   \n",
       "1                               ([H], 7)   ()  info is atom idx        []   \n",
       "2                              ([H], 15)   ()  info is atom idx        []   \n",
       "3                              ([H], 31)   ()  info is atom idx        []   \n",
       "4                              ([Li], 0)   ()  info is atom idx        []   \n",
       "..                                   ...  ...               ...       ...   \n",
       "876      ([#7][#6]1[#6](Cl)[#6][#6]1, 0)   ()  info is atom idx        []   \n",
       "877  ([#7][#6]1[#6](Br)[#6][#6][#6]1, 0)   ()  info is atom idx        []   \n",
       "878    (Cl[#6]1[#6](Cl)[#6][#6][#6]1, 0)   ()  info is atom idx        []   \n",
       "879    (Cl[#6]1[#6](Br)[#6][#6][#6]1, 0)   ()  info is atom idx        []   \n",
       "880    (Br[#6]1[#6](Br)[#6][#6][#6]1, 0)   ()  info is atom idx        []   \n",
       "\n",
       "    bondInUse  \n",
       "0          []  \n",
       "1          []  \n",
       "2          []  \n",
       "3          []  \n",
       "4          []  \n",
       "..        ...  \n",
       "876        []  \n",
       "877        []  \n",
       "878        []  \n",
       "879        []  \n",
       "880        []  \n",
       "\n",
       "[881 rows x 9 columns]"
      ]
     },
     "execution_count": 17,
     "metadata": {},
     "output_type": "execute_result"
    }
   ],
   "source": [
    "fp.bits2df(fp.bits)"
   ]
  },
  {
   "cell_type": "code",
   "execution_count": 19,
   "id": "26386085-c07e-44f7-8915-5d0af7f53f36",
   "metadata": {},
   "outputs": [
    {
     "data": {
      "text/plain": [
       "(881,)"
      ]
     },
     "execution_count": 19,
     "metadata": {},
     "output_type": "execute_result"
    }
   ],
   "source": [
    "fp.fp_arr.shape"
   ]
  },
  {
   "cell_type": "code",
   "execution_count": 22,
   "id": "c8ae3f64-1fe0-4ff5-8bb7-001e179196b3",
   "metadata": {},
   "outputs": [],
   "source": [
    "b = fp.bits[0]"
   ]
  },
  {
   "cell_type": "code",
   "execution_count": null,
   "id": "2e2655ae-f7e9-4831-be48-5f50f320631c",
   "metadata": {},
   "outputs": [],
   "source": []
  }
 ],
 "metadata": {
  "kernelspec": {
   "display_name": "Python [conda env:ccc]",
   "language": "python",
   "name": "conda-env-ccc-py"
  },
  "language_info": {
   "codemirror_mode": {
    "name": "ipython",
    "version": 3
   },
   "file_extension": ".py",
   "mimetype": "text/x-python",
   "name": "python",
   "nbconvert_exporter": "python",
   "pygments_lexer": "ipython3",
   "version": "3.8.16"
  }
 },
 "nbformat": 4,
 "nbformat_minor": 5
}
